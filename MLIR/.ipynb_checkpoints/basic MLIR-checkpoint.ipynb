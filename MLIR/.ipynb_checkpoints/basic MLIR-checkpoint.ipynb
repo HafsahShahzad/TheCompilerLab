{
 "cells": [
  {
   "cell_type": "markdown",
   "id": "2338a6ec-2217-4cf0-b1bc-30a44febf8f4",
   "metadata": {},
   "source": [
    "Some notes: \n",
    "On my machine I have LLVM 20.1.8 and supports mlir\n",
    "( /opt/homebrew/opt/llvm/bin/mlir-opt --version\n",
    "Homebrew LLVM version 20.1.8\n",
    "  Optimized build.) \n",
    "\n",
    "ls /opt/homebrew/opt/llvm/bin | grep mlir\n",
    "mlir-cat\n",
    "mlir-linalg-ods-yaml-gen\n",
    "mlir-lsp-server #language server for MLIR editing\n",
    "mlir-minimal-opt #small mlir-opt build for minimal pipelines\n",
    "mlir-minimal-opt-canonicalize\n",
    "mlir-opt #run passes\n",
    "mlir-pdll #pattern definition language tool\n",
    "mlir-pdll-lsp-server\n",
    "mlir-query\n",
    "mlir-reduce #reduce/trim failing IR testcases\n",
    "mlir-rewrite\n",
    "mlir-runner #execute MLIR via JIT\n",
    "mlir-tblgen #generate dialect/op definitions from TableGen\n",
    "mlir-transform-opt #transformation-specific toolchain\n",
    "mlir-translate #convert IR formats\n",
    "\n",
    "\n"
   ]
  }
 ],
 "metadata": {
  "kernelspec": {
   "display_name": "Python 3 (ipykernel)",
   "language": "python",
   "name": "python3"
  },
  "language_info": {
   "codemirror_mode": {
    "name": "ipython",
    "version": 3
   },
   "file_extension": ".py",
   "mimetype": "text/x-python",
   "name": "python",
   "nbconvert_exporter": "python",
   "pygments_lexer": "ipython3",
   "version": "3.12.7"
  }
 },
 "nbformat": 4,
 "nbformat_minor": 5
}
