{
 "cells": [
  {
   "cell_type": "markdown",
   "id": "2338a6ec-2217-4cf0-b1bc-30a44febf8f4",
   "metadata": {},
   "source": [
    "## An example of basic MLIR\n",
    "### Some notes: \n",
    "On my machine I have LLVM 20.1.8 and supports mlir\n",
    "( /opt/homebrew/opt/llvm/bin/mlir-opt --version\n",
    "Homebrew LLVM version 20.1.8\n",
    "  Optimized build.) \n",
    "\n",
    "ls /opt/homebrew/opt/llvm/bin | grep mlir\n",
    "\n",
    "-->mlir-cat\n",
    "-->mlir-linalg-ods-yaml-gen #generate Linalg dialect ops from ODS/YAML definitions (more advanced).\n",
    "-->mlir-lsp-server #language server for MLIR editing\n",
    "-->mlir-minimal-opt #small mlir-opt build for minimal pipelines\n",
    "-->mlir-minimal-opt-canonicalize\n",
    "-->mlir-opt #run passes\n",
    "-->mlir-pdll #pattern definition language tool\n",
    "-->mlir-pdll-lsp-server\n",
    "-->mlir-query #query and analyze MLIR IR.\n",
    "-->mlir-reduce #reduce/trim failing IR testcases\n",
    "-->mlir-rewrite\n",
    "-->mlir-runner #execute MLIR via JIT\n",
    "-->mlir-tblgen #generate dialect/op definitions from TableGen\n",
    "-->mlir-transform-opt #transformation-specific toolchain\n",
    "-->mlir-translate #convert between MLIR and other formats (e.g., LLVM IR).\n",
    "\n",
    "##MLIR sprang from the need to answer: Could we build a unified representation that could support every AI framework, every hardware backend, and every kind of optimization—from algebraic simplification to polyhedral analysis? \n",
    "MLIR dialects — a way to cleanly separate domain-specific concerns from the core infrastructure of a compiler. Rather than forcing every user to adopt a rigid, one-size-fits-all intermediate representation (like LLVM and other compilers), MLIR would let compiler engineers define their own representations—custom ops, types, and semantics—tailored to their domain. AI-specific dialects—including arith, linalg, and tensor—providing some bits and pieces useful for building a modern AI compiler stack.\n",
    "\n",
    "#https://mlir.llvm.org/docs/Tutorials/Toy/\n",
    "### Some links:\n",
    "#Chris Lattner & Tatiana Shpeisman talk in 2019 LLVM Developer meeting: https://www.youtube.com/watch?v=qzljG6DKgic\n",
    "\n",
    "#https://www.stephendiehl.com/posts/mlir_introduction/\n",
    "\n",
    "#https://www.youtube.com/watch?v=cyICUIZ56wQ\n",
    "\n",
    "#https://www.modular.com/blog/democratizing-ai-compute-part-8-what-about-the-mlir-compiler-infrastructure\n",
    "\n",
    "#https://www.modular.com/blog/democratizing-ai-compute-part-6-what-about-ai-compilers\n",
    "\n",
    "#https://veitner.bearblog.dev/let-the-compiler-do-the-work-in-cutedsl/"
   ]
  },
  {
   "cell_type": "code",
   "execution_count": 25,
   "id": "afb1fcae-9462-4a6c-b43e-35f94d8341cd",
   "metadata": {},
   "outputs": [
    {
     "name": "stdout",
     "output_type": "stream",
     "text": [
      "; ModuleID = 'LLVMDialectModule'\n",
      "source_filename = \"LLVMDialectModule\"\n",
      "\n",
      "define i32 @add(i32 %0, i32 %1) {\n",
      "  %3 = add i32 %0, %1\n",
      "  ret i32 %3\n",
      "}\n",
      "\n",
      "!llvm.module.flags = !{!0}\n",
      "\n",
      "!0 = !{i32 2, !\"Debug Info Version\", i32 3}\n"
     ]
    }
   ],
   "source": [
    "# Write MLIR code - a simple toy example to observe llvm IR generation\n",
    "#****************************************************\n",
    "#func.func — entry point in the func dialect (registered by default).\n",
    "#arith.addi — integer addition in arith dialect (also available in your build).\n",
    "#canonicalize — cleans up IR before lowering.\n",
    "#convert-arith-to-llvm — lowers arith ops into llvm dialect equivalents.\n",
    "#convert-func-to-llvm — lowers func dialect to llvm dialect functions.\n",
    "#mlir-translate --mlir-to-llvmir — converts the MLIR llvm dialect to textual LLVM IR.\n",
    "\n",
    "#my pipeline here is:\n",
    "#MLIR (func + arith)\n",
    "#   ↓ canonicalize\n",
    "#   ↓ convert-arith-to-llvm\n",
    "#   ↓ convert-func-to-llvm\n",
    "#MLIR (llvm dialect)\n",
    "#   ↓ mlir-translate\n",
    "#LLVM IR (.ll)\n",
    "\n",
    "#mlir doesnot have a code generator for target assembly. LLVM does, so we convert all the different\n",
    "#dialects to LLVM IR\n",
    "#****************************************************\n",
    "\n",
    "mlir_code = \"\"\"\\\n",
    "module  {\n",
    "  func.func @add(%a: i32, %b: i32) -> i32 {\n",
    "    %sum = arith.addi %a, %b : i32\n",
    "    return %sum : i32\n",
    "  }\n",
    "}\n",
    "\"\"\"\n",
    "\n",
    "with open(\"add.mlir\", \"w\") as f:\n",
    "    f.write(mlir_code)\n",
    "\n",
    "# Combine the optimization and lowering steps into a single pass pipeline.\n",
    "# This pipeline now includes all the necessary passes to convert the `func` dialect to LLVM.\n",
    "!mlir-opt add.mlir --pass-pipeline=\"builtin.module(func.func(canonicalize, convert-arith-to-llvm), convert-func-to-llvm)\" | mlir-translate --mlir-to-llvmir - > add.ll\n",
    "\n",
    "# Print the generated LLVM IR\n",
    "!head -40 add.ll\n"
   ]
  },
  {
   "cell_type": "code",
   "execution_count": 26,
   "id": "4b528617-03b5-485c-bcff-e801290fe9b8",
   "metadata": {},
   "outputs": [
    {
     "name": "stdout",
     "output_type": "stream",
     "text": [
      "\t.build_version macos, 15, 0\n",
      "\t.section\t__TEXT,__text,regular,pure_instructions\n",
      "\t.globl\t_add                            ; -- Begin function add\n",
      "\t.p2align\t2\n",
      "_add:                                   ; @add\n",
      "\t.cfi_startproc\n",
      "; %bb.0:\n",
      "\tadd\tw0, w0, w1\n",
      "\tret\n",
      "\t.cfi_endproc\n",
      "                                        ; -- End function\n",
      ".subsections_via_symbols\n"
     ]
    }
   ],
   "source": [
    "#Run the LLVM IR through llc to get assembly.\n",
    "#LLVM IR (.ll)\n",
    "#   ↓ llc\n",
    "#Assembly (.s)\n",
    "\n",
    "!llc add.ll -o add.s\n",
    "!head -20 add.s\n"
   ]
  },
  {
   "cell_type": "code",
   "execution_count": 27,
   "id": "e2d7f966-4c34-4dc5-927d-279bebb2f166",
   "metadata": {},
   "outputs": [],
   "source": [
    "#run assembly through clang to get an executable\n",
    "#Assembly (.s)\n",
    "#   ↓ clang\n",
    "#Executable\n",
    "\n",
    "\n",
    "driver_code = r\"\"\"\n",
    "#include <stdio.h>\n",
    "\n",
    "// Declare the MLIR-generated function\n",
    "int add(int a, int b);\n",
    "\n",
    "int main() {\n",
    "    int result = add(42, 58);\n",
    "    printf(\"Result: %d\\n\", result);\n",
    "    return 0;\n",
    "}\n",
    "\"\"\"\n",
    "\n",
    "with open(\"driver.c\", \"w\") as f:\n",
    "    f.write(driver_code)\n",
    "\n",
    "# Compile: assembly + driver → executable\n",
    "!clang add.s driver.c -o add_exec\n"
   ]
  },
  {
   "cell_type": "code",
   "execution_count": 28,
   "id": "0dee93e6-485b-4c8e-b2db-b6774f8b3e89",
   "metadata": {},
   "outputs": [
    {
     "name": "stdout",
     "output_type": "stream",
     "text": [
      "Result: 100\n"
     ]
    }
   ],
   "source": [
    "#Run the executable\n",
    "!./add_exec"
   ]
  },
  {
   "cell_type": "code",
   "execution_count": null,
   "id": "a40ec15c-26a0-4150-8bf8-c89e04db9176",
   "metadata": {},
   "outputs": [],
   "source": [
    "Registered dialects on my mlir version: acc, amx, arm_neon, arm_sme, arm_sve, builtin, dlti, func, gpu, llvm, nvvm, omp, rocdl, spirv, vcix, x86vector ; for more info on dialect registration see https://mlir.llvm.org/getting_started/Faq/#registered-loaded-dependent-whats-up-with-dialects-management"
   ]
  }
 ],
 "metadata": {
  "kernelspec": {
   "display_name": "Python 3 (ipykernel)",
   "language": "python",
   "name": "python3"
  },
  "language_info": {
   "codemirror_mode": {
    "name": "ipython",
    "version": 3
   },
   "file_extension": ".py",
   "mimetype": "text/x-python",
   "name": "python",
   "nbconvert_exporter": "python",
   "pygments_lexer": "ipython3",
   "version": "3.12.7"
  }
 },
 "nbformat": 4,
 "nbformat_minor": 5
}
